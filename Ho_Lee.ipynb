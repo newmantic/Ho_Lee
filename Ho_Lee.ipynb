{
  "nbformat": 4,
  "nbformat_minor": 0,
  "metadata": {
    "colab": {
      "provenance": [],
      "authorship_tag": "ABX9TyNUA9obcB9SOVhTaN7b22WR",
      "include_colab_link": true
    },
    "kernelspec": {
      "name": "python3",
      "display_name": "Python 3"
    },
    "language_info": {
      "name": "python"
    }
  },
  "cells": [
    {
      "cell_type": "markdown",
      "metadata": {
        "id": "view-in-github",
        "colab_type": "text"
      },
      "source": [
        "<a href=\"https://colab.research.google.com/github/newmantic/Ho_Lee/blob/main/Ho_Lee.ipynb\" target=\"_parent\"><img src=\"https://colab.research.google.com/assets/colab-badge.svg\" alt=\"Open In Colab\"/></a>"
      ]
    },
    {
      "cell_type": "code",
      "execution_count": 1,
      "metadata": {
        "id": "1X8Zmobkwcoq"
      },
      "outputs": [],
      "source": [
        "import numpy as np"
      ]
    },
    {
      "cell_type": "code",
      "source": [
        "def ho_lee_rate_paths(T, N, r0, theta, sigma, dt=0.01):\n",
        "    \"\"\"\n",
        "    Generate interest rate paths using the Ho-Lee model.\n",
        "\n",
        "    Parameters:\n",
        "    T (float): Total time horizon.\n",
        "    N (int): Number of paths.\n",
        "    r0 (float): Initial short rate.\n",
        "    theta (callable): A function of time representing the drift term.\n",
        "    sigma (float): Volatility of the short rate.\n",
        "    dt (float): Time increment.\n",
        "\n",
        "    Returns:\n",
        "    np.ndarray: Array of interest rate paths.\n",
        "    \"\"\"\n",
        "    time_steps = int(T / dt)\n",
        "    rates = np.zeros((N, time_steps + 1))\n",
        "    rates[:, 0] = r0\n",
        "\n",
        "    for t in range(1, time_steps + 1):\n",
        "        dW = np.sqrt(dt) * np.random.normal(size=N)\n",
        "        rates[:, t] = rates[:, t - 1] + theta(t * dt) * dt + sigma * dW\n",
        "\n",
        "    return rates"
      ],
      "metadata": {
        "id": "xrCXZWnxwtLn"
      },
      "execution_count": 2,
      "outputs": []
    },
    {
      "cell_type": "code",
      "source": [
        "def bond_price_ho_lee(r, T, sigma, t=0):\n",
        "    \"\"\"\n",
        "    Calculate the price of a zero-coupon bond under the Ho-Lee model.\n",
        "\n",
        "    Parameters:\n",
        "    r (float): Current short rate.\n",
        "    T (float): Maturity of the bond.\n",
        "    sigma (float): Volatility of the short rate.\n",
        "    t (float): Current time.\n",
        "\n",
        "    Returns:\n",
        "    float: Price of the zero-coupon bond.\n",
        "    \"\"\"\n",
        "    B = T - t\n",
        "    return np.exp(-r * B + 0.5 * sigma**2 * B**3 / 3)\n",
        "\n",
        "# example:\n",
        "r0 = 0.05  # Initial short rate\n",
        "T = 5  # Maturity of the bond in years\n",
        "sigma = 0.01  # Volatility of the short rate\n",
        "\n",
        "bond_price = bond_price_ho_lee(r0, T, sigma)\n",
        "print(f\"Bond price under the Ho-Lee model: {bond_price:.4f}\")"
      ],
      "metadata": {
        "colab": {
          "base_uri": "https://localhost:8080/"
        },
        "id": "WcLPbtU4wyCA",
        "outputId": "ebc1a8b2-3604-4d38-a2db-c05119d3785e"
      },
      "execution_count": 3,
      "outputs": [
        {
          "output_type": "stream",
          "name": "stdout",
          "text": [
            "Bond price under the Ho-Lee model: 0.7804\n"
          ]
        }
      ]
    },
    {
      "cell_type": "code",
      "source": [
        "# Simulate multiple interest rate paths and compute bond prices\n",
        "N = 1000  # Number of simulated paths\n",
        "T = 5  # Total time horizon in years\n",
        "r0 = 0.05  # Initial short rate\n",
        "sigma = 0.01  # Volatility of the short rate\n",
        "\n",
        "# Define the deterministic drift function theta(t) as a constant for simplicity\n",
        "theta = lambda t: 0.02\n",
        "\n",
        "# Simulate interest rate paths\n",
        "rate_paths = ho_lee_rate_paths(T, N, r0, theta, sigma)\n",
        "\n",
        "# Compute the bond prices at each time step along the paths\n",
        "bond_prices = np.zeros(rate_paths.shape)\n",
        "for t in range(rate_paths.shape[1]):\n",
        "    bond_prices[:, t] = bond_price_ho_lee(rate_paths[:, t], T, sigma, t * 0.01)\n",
        "\n",
        "# Example: Print the bond price at the final time step for the first path\n",
        "print(f\"Bond price at maturity under the Ho-Lee model: {bond_prices[0, -1]:.4f}\")"
      ],
      "metadata": {
        "colab": {
          "base_uri": "https://localhost:8080/"
        },
        "id": "q4rxW7_Uw0jj",
        "outputId": "473bb919-d659-49ba-d612-98c13046751e"
      },
      "execution_count": 4,
      "outputs": [
        {
          "output_type": "stream",
          "name": "stdout",
          "text": [
            "Bond price at maturity under the Ho-Lee model: 1.0000\n"
          ]
        }
      ]
    }
  ]
}